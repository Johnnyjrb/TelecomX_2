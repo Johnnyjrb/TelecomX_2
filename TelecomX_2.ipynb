{
  "nbformat": 4,
  "nbformat_minor": 0,
  "metadata": {
    "colab": {
      "provenance": [],
      "authorship_tag": "ABX9TyMkQaOb/BJ3gtCXbXzSyI8U",
      "include_colab_link": true
    },
    "kernelspec": {
      "name": "python3",
      "display_name": "Python 3"
    },
    "language_info": {
      "name": "python"
    }
  },
  "cells": [
    {
      "cell_type": "markdown",
      "metadata": {
        "id": "view-in-github",
        "colab_type": "text"
      },
      "source": [
        "<a href=\"https://colab.research.google.com/github/Johnnyjrb/TelecomX_2/blob/main/TelecomX_2.ipynb\" target=\"_parent\"><img src=\"https://colab.research.google.com/assets/colab-badge.svg\" alt=\"Open In Colab\"/></a>"
      ]
    },
    {
      "cell_type": "markdown",
      "source": [
        "## Carga de Datos"
      ],
      "metadata": {
        "id": "Mh1kmGwuwOaS"
      }
    },
    {
      "cell_type": "code",
      "execution_count": 49,
      "metadata": {
        "id": "DIfzWSXZv7SH"
      },
      "outputs": [],
      "source": [
        "import json\n",
        "import pandas as pd\n",
        "import numpy as np\n",
        "import seaborn as sns\n",
        "import matplotlib.pyplot as plt\n",
        "from scipy.stats import chi2_contingency\n",
        "from sklearn.model_selection import train_test_split, KFold, cross_val_score\n",
        "from sklearn.preprocessing import StandardScaler, OneHotEncoder\n",
        "from sklearn.compose import ColumnTransformer\n",
        "from sklearn.pipeline import Pipeline\n",
        "from sklearn.linear_model import LogisticRegression\n",
        "from sklearn.ensemble import RandomForestClassifier, GradientBoostingClassifier\n",
        "from sklearn.metrics import (\n",
        "    classification_report,\n",
        "    roc_auc_score,\n",
        "    roc_curve,\n",
        "    auc,\n",
        "    RocCurveDisplay,\n",
        "    precision_recall_curve,\n",
        "    PrecisionRecallDisplay,\n",
        "    average_precision_score,\n",
        ")\n",
        "from imblearn.over_sampling import SMOTE\n",
        "from imblearn.pipeline import Pipeline as ImbPipeline\n",
        "import warnings\n",
        "from sklearn.metrics import RocCurveDisplay"
      ]
    },
    {
      "cell_type": "markdown",
      "source": [
        "## Cargando archivo json\n"
      ],
      "metadata": {
        "id": "MVjZ9XVcxA_s"
      }
    },
    {
      "cell_type": "code",
      "source": [
        "datos_clientes_final = pd.read_json('datos_clientes_final.json')\n",
        "datos_clientes_final"
      ],
      "metadata": {
        "colab": {
          "base_uri": "https://localhost:8080/",
          "height": 600
        },
        "id": "dsjW03YuxEe4",
        "outputId": "c5cbafb0-c4d6-44ff-c6bc-f91ca51632ea"
      },
      "execution_count": 50,
      "outputs": [
        {
          "output_type": "execute_result",
          "data": {
            "text/plain": [
              "      customerID Churn  gender  SeniorCitizen Partner Dependents  tenure  \\\n",
              "0     0002-ORFBO    No  Female              0     Yes        Yes       9   \n",
              "1     0003-MKNFE    No    Male              0      No         No       9   \n",
              "2     0004-TLHLJ   Yes    Male              0      No         No       4   \n",
              "3     0011-IGKFF   Yes    Male              1     Yes         No      13   \n",
              "4     0013-EXCHZ   Yes  Female              1     Yes         No       3   \n",
              "...          ...   ...     ...            ...     ...        ...     ...   \n",
              "7262  9987-LUTYD    No  Female              0      No         No      13   \n",
              "7263  9992-RRAMN   Yes    Male              0     Yes         No      22   \n",
              "7264  9992-UJOEL    No    Male              0      No         No       2   \n",
              "7265  9993-LHIEB    No    Male              0     Yes        Yes      67   \n",
              "7266  9995-HOTOH    No    Male              0     Yes        Yes      63   \n",
              "\n",
              "     PhoneService     MultipleLines InternetService  ... OnlineBackup  \\\n",
              "0             Yes                No             DSL  ...          Yes   \n",
              "1             Yes               Yes             DSL  ...           No   \n",
              "2             Yes                No     Fiber optic  ...           No   \n",
              "3             Yes                No     Fiber optic  ...          Yes   \n",
              "4             Yes                No     Fiber optic  ...           No   \n",
              "...           ...               ...             ...  ...          ...   \n",
              "7262          Yes                No             DSL  ...           No   \n",
              "7263          Yes               Yes     Fiber optic  ...           No   \n",
              "7264          Yes                No             DSL  ...          Yes   \n",
              "7265          Yes                No             DSL  ...           No   \n",
              "7266           No  No phone service             DSL  ...          Yes   \n",
              "\n",
              "     DeviceProtection TechSupport StreamingTV StreamingMovies        Contract  \\\n",
              "0                  No         Yes         Yes              No        One year   \n",
              "1                  No          No          No             Yes  Month-to-month   \n",
              "2                 Yes          No          No              No  Month-to-month   \n",
              "3                 Yes          No         Yes             Yes  Month-to-month   \n",
              "4                  No         Yes         Yes              No  Month-to-month   \n",
              "...               ...         ...         ...             ...             ...   \n",
              "7262               No         Yes          No              No        One year   \n",
              "7263               No          No          No             Yes  Month-to-month   \n",
              "7264               No          No          No              No  Month-to-month   \n",
              "7265              Yes         Yes          No             Yes        Two year   \n",
              "7266              Yes          No         Yes             Yes        Two year   \n",
              "\n",
              "     PaperlessBilling     PaymentMethod Charges.Monthly  Charges.Total  \n",
              "0                 Yes      Mailed check           65.60         593.30  \n",
              "1                  No      Mailed check           59.90         542.40  \n",
              "2                 Yes  Electronic check           73.90         280.85  \n",
              "3                 Yes  Electronic check           98.00        1237.85  \n",
              "4                 Yes      Mailed check           83.90         267.40  \n",
              "...               ...               ...             ...            ...  \n",
              "7262               No      Mailed check           55.15         742.90  \n",
              "7263              Yes  Electronic check           85.10        1873.70  \n",
              "7264              Yes      Mailed check           50.30          92.75  \n",
              "7265               No      Mailed check           67.85        4627.65  \n",
              "7266               No  Electronic check           59.00        3707.60  \n",
              "\n",
              "[7267 rows x 21 columns]"
            ],
            "text/html": [
              "\n",
              "  <div id=\"df-c0c558e7-67a5-49e6-b92d-c7d00b246632\" class=\"colab-df-container\">\n",
              "    <div>\n",
              "<style scoped>\n",
              "    .dataframe tbody tr th:only-of-type {\n",
              "        vertical-align: middle;\n",
              "    }\n",
              "\n",
              "    .dataframe tbody tr th {\n",
              "        vertical-align: top;\n",
              "    }\n",
              "\n",
              "    .dataframe thead th {\n",
              "        text-align: right;\n",
              "    }\n",
              "</style>\n",
              "<table border=\"1\" class=\"dataframe\">\n",
              "  <thead>\n",
              "    <tr style=\"text-align: right;\">\n",
              "      <th></th>\n",
              "      <th>customerID</th>\n",
              "      <th>Churn</th>\n",
              "      <th>gender</th>\n",
              "      <th>SeniorCitizen</th>\n",
              "      <th>Partner</th>\n",
              "      <th>Dependents</th>\n",
              "      <th>tenure</th>\n",
              "      <th>PhoneService</th>\n",
              "      <th>MultipleLines</th>\n",
              "      <th>InternetService</th>\n",
              "      <th>...</th>\n",
              "      <th>OnlineBackup</th>\n",
              "      <th>DeviceProtection</th>\n",
              "      <th>TechSupport</th>\n",
              "      <th>StreamingTV</th>\n",
              "      <th>StreamingMovies</th>\n",
              "      <th>Contract</th>\n",
              "      <th>PaperlessBilling</th>\n",
              "      <th>PaymentMethod</th>\n",
              "      <th>Charges.Monthly</th>\n",
              "      <th>Charges.Total</th>\n",
              "    </tr>\n",
              "  </thead>\n",
              "  <tbody>\n",
              "    <tr>\n",
              "      <th>0</th>\n",
              "      <td>0002-ORFBO</td>\n",
              "      <td>No</td>\n",
              "      <td>Female</td>\n",
              "      <td>0</td>\n",
              "      <td>Yes</td>\n",
              "      <td>Yes</td>\n",
              "      <td>9</td>\n",
              "      <td>Yes</td>\n",
              "      <td>No</td>\n",
              "      <td>DSL</td>\n",
              "      <td>...</td>\n",
              "      <td>Yes</td>\n",
              "      <td>No</td>\n",
              "      <td>Yes</td>\n",
              "      <td>Yes</td>\n",
              "      <td>No</td>\n",
              "      <td>One year</td>\n",
              "      <td>Yes</td>\n",
              "      <td>Mailed check</td>\n",
              "      <td>65.60</td>\n",
              "      <td>593.30</td>\n",
              "    </tr>\n",
              "    <tr>\n",
              "      <th>1</th>\n",
              "      <td>0003-MKNFE</td>\n",
              "      <td>No</td>\n",
              "      <td>Male</td>\n",
              "      <td>0</td>\n",
              "      <td>No</td>\n",
              "      <td>No</td>\n",
              "      <td>9</td>\n",
              "      <td>Yes</td>\n",
              "      <td>Yes</td>\n",
              "      <td>DSL</td>\n",
              "      <td>...</td>\n",
              "      <td>No</td>\n",
              "      <td>No</td>\n",
              "      <td>No</td>\n",
              "      <td>No</td>\n",
              "      <td>Yes</td>\n",
              "      <td>Month-to-month</td>\n",
              "      <td>No</td>\n",
              "      <td>Mailed check</td>\n",
              "      <td>59.90</td>\n",
              "      <td>542.40</td>\n",
              "    </tr>\n",
              "    <tr>\n",
              "      <th>2</th>\n",
              "      <td>0004-TLHLJ</td>\n",
              "      <td>Yes</td>\n",
              "      <td>Male</td>\n",
              "      <td>0</td>\n",
              "      <td>No</td>\n",
              "      <td>No</td>\n",
              "      <td>4</td>\n",
              "      <td>Yes</td>\n",
              "      <td>No</td>\n",
              "      <td>Fiber optic</td>\n",
              "      <td>...</td>\n",
              "      <td>No</td>\n",
              "      <td>Yes</td>\n",
              "      <td>No</td>\n",
              "      <td>No</td>\n",
              "      <td>No</td>\n",
              "      <td>Month-to-month</td>\n",
              "      <td>Yes</td>\n",
              "      <td>Electronic check</td>\n",
              "      <td>73.90</td>\n",
              "      <td>280.85</td>\n",
              "    </tr>\n",
              "    <tr>\n",
              "      <th>3</th>\n",
              "      <td>0011-IGKFF</td>\n",
              "      <td>Yes</td>\n",
              "      <td>Male</td>\n",
              "      <td>1</td>\n",
              "      <td>Yes</td>\n",
              "      <td>No</td>\n",
              "      <td>13</td>\n",
              "      <td>Yes</td>\n",
              "      <td>No</td>\n",
              "      <td>Fiber optic</td>\n",
              "      <td>...</td>\n",
              "      <td>Yes</td>\n",
              "      <td>Yes</td>\n",
              "      <td>No</td>\n",
              "      <td>Yes</td>\n",
              "      <td>Yes</td>\n",
              "      <td>Month-to-month</td>\n",
              "      <td>Yes</td>\n",
              "      <td>Electronic check</td>\n",
              "      <td>98.00</td>\n",
              "      <td>1237.85</td>\n",
              "    </tr>\n",
              "    <tr>\n",
              "      <th>4</th>\n",
              "      <td>0013-EXCHZ</td>\n",
              "      <td>Yes</td>\n",
              "      <td>Female</td>\n",
              "      <td>1</td>\n",
              "      <td>Yes</td>\n",
              "      <td>No</td>\n",
              "      <td>3</td>\n",
              "      <td>Yes</td>\n",
              "      <td>No</td>\n",
              "      <td>Fiber optic</td>\n",
              "      <td>...</td>\n",
              "      <td>No</td>\n",
              "      <td>No</td>\n",
              "      <td>Yes</td>\n",
              "      <td>Yes</td>\n",
              "      <td>No</td>\n",
              "      <td>Month-to-month</td>\n",
              "      <td>Yes</td>\n",
              "      <td>Mailed check</td>\n",
              "      <td>83.90</td>\n",
              "      <td>267.40</td>\n",
              "    </tr>\n",
              "    <tr>\n",
              "      <th>...</th>\n",
              "      <td>...</td>\n",
              "      <td>...</td>\n",
              "      <td>...</td>\n",
              "      <td>...</td>\n",
              "      <td>...</td>\n",
              "      <td>...</td>\n",
              "      <td>...</td>\n",
              "      <td>...</td>\n",
              "      <td>...</td>\n",
              "      <td>...</td>\n",
              "      <td>...</td>\n",
              "      <td>...</td>\n",
              "      <td>...</td>\n",
              "      <td>...</td>\n",
              "      <td>...</td>\n",
              "      <td>...</td>\n",
              "      <td>...</td>\n",
              "      <td>...</td>\n",
              "      <td>...</td>\n",
              "      <td>...</td>\n",
              "      <td>...</td>\n",
              "    </tr>\n",
              "    <tr>\n",
              "      <th>7262</th>\n",
              "      <td>9987-LUTYD</td>\n",
              "      <td>No</td>\n",
              "      <td>Female</td>\n",
              "      <td>0</td>\n",
              "      <td>No</td>\n",
              "      <td>No</td>\n",
              "      <td>13</td>\n",
              "      <td>Yes</td>\n",
              "      <td>No</td>\n",
              "      <td>DSL</td>\n",
              "      <td>...</td>\n",
              "      <td>No</td>\n",
              "      <td>No</td>\n",
              "      <td>Yes</td>\n",
              "      <td>No</td>\n",
              "      <td>No</td>\n",
              "      <td>One year</td>\n",
              "      <td>No</td>\n",
              "      <td>Mailed check</td>\n",
              "      <td>55.15</td>\n",
              "      <td>742.90</td>\n",
              "    </tr>\n",
              "    <tr>\n",
              "      <th>7263</th>\n",
              "      <td>9992-RRAMN</td>\n",
              "      <td>Yes</td>\n",
              "      <td>Male</td>\n",
              "      <td>0</td>\n",
              "      <td>Yes</td>\n",
              "      <td>No</td>\n",
              "      <td>22</td>\n",
              "      <td>Yes</td>\n",
              "      <td>Yes</td>\n",
              "      <td>Fiber optic</td>\n",
              "      <td>...</td>\n",
              "      <td>No</td>\n",
              "      <td>No</td>\n",
              "      <td>No</td>\n",
              "      <td>No</td>\n",
              "      <td>Yes</td>\n",
              "      <td>Month-to-month</td>\n",
              "      <td>Yes</td>\n",
              "      <td>Electronic check</td>\n",
              "      <td>85.10</td>\n",
              "      <td>1873.70</td>\n",
              "    </tr>\n",
              "    <tr>\n",
              "      <th>7264</th>\n",
              "      <td>9992-UJOEL</td>\n",
              "      <td>No</td>\n",
              "      <td>Male</td>\n",
              "      <td>0</td>\n",
              "      <td>No</td>\n",
              "      <td>No</td>\n",
              "      <td>2</td>\n",
              "      <td>Yes</td>\n",
              "      <td>No</td>\n",
              "      <td>DSL</td>\n",
              "      <td>...</td>\n",
              "      <td>Yes</td>\n",
              "      <td>No</td>\n",
              "      <td>No</td>\n",
              "      <td>No</td>\n",
              "      <td>No</td>\n",
              "      <td>Month-to-month</td>\n",
              "      <td>Yes</td>\n",
              "      <td>Mailed check</td>\n",
              "      <td>50.30</td>\n",
              "      <td>92.75</td>\n",
              "    </tr>\n",
              "    <tr>\n",
              "      <th>7265</th>\n",
              "      <td>9993-LHIEB</td>\n",
              "      <td>No</td>\n",
              "      <td>Male</td>\n",
              "      <td>0</td>\n",
              "      <td>Yes</td>\n",
              "      <td>Yes</td>\n",
              "      <td>67</td>\n",
              "      <td>Yes</td>\n",
              "      <td>No</td>\n",
              "      <td>DSL</td>\n",
              "      <td>...</td>\n",
              "      <td>No</td>\n",
              "      <td>Yes</td>\n",
              "      <td>Yes</td>\n",
              "      <td>No</td>\n",
              "      <td>Yes</td>\n",
              "      <td>Two year</td>\n",
              "      <td>No</td>\n",
              "      <td>Mailed check</td>\n",
              "      <td>67.85</td>\n",
              "      <td>4627.65</td>\n",
              "    </tr>\n",
              "    <tr>\n",
              "      <th>7266</th>\n",
              "      <td>9995-HOTOH</td>\n",
              "      <td>No</td>\n",
              "      <td>Male</td>\n",
              "      <td>0</td>\n",
              "      <td>Yes</td>\n",
              "      <td>Yes</td>\n",
              "      <td>63</td>\n",
              "      <td>No</td>\n",
              "      <td>No phone service</td>\n",
              "      <td>DSL</td>\n",
              "      <td>...</td>\n",
              "      <td>Yes</td>\n",
              "      <td>Yes</td>\n",
              "      <td>No</td>\n",
              "      <td>Yes</td>\n",
              "      <td>Yes</td>\n",
              "      <td>Two year</td>\n",
              "      <td>No</td>\n",
              "      <td>Electronic check</td>\n",
              "      <td>59.00</td>\n",
              "      <td>3707.60</td>\n",
              "    </tr>\n",
              "  </tbody>\n",
              "</table>\n",
              "<p>7267 rows × 21 columns</p>\n",
              "</div>\n",
              "    <div class=\"colab-df-buttons\">\n",
              "\n",
              "  <div class=\"colab-df-container\">\n",
              "    <button class=\"colab-df-convert\" onclick=\"convertToInteractive('df-c0c558e7-67a5-49e6-b92d-c7d00b246632')\"\n",
              "            title=\"Convert this dataframe to an interactive table.\"\n",
              "            style=\"display:none;\">\n",
              "\n",
              "  <svg xmlns=\"http://www.w3.org/2000/svg\" height=\"24px\" viewBox=\"0 -960 960 960\">\n",
              "    <path d=\"M120-120v-720h720v720H120Zm60-500h600v-160H180v160Zm220 220h160v-160H400v160Zm0 220h160v-160H400v160ZM180-400h160v-160H180v160Zm440 0h160v-160H620v160ZM180-180h160v-160H180v160Zm440 0h160v-160H620v160Z\"/>\n",
              "  </svg>\n",
              "    </button>\n",
              "\n",
              "  <style>\n",
              "    .colab-df-container {\n",
              "      display:flex;\n",
              "      gap: 12px;\n",
              "    }\n",
              "\n",
              "    .colab-df-convert {\n",
              "      background-color: #E8F0FE;\n",
              "      border: none;\n",
              "      border-radius: 50%;\n",
              "      cursor: pointer;\n",
              "      display: none;\n",
              "      fill: #1967D2;\n",
              "      height: 32px;\n",
              "      padding: 0 0 0 0;\n",
              "      width: 32px;\n",
              "    }\n",
              "\n",
              "    .colab-df-convert:hover {\n",
              "      background-color: #E2EBFA;\n",
              "      box-shadow: 0px 1px 2px rgba(60, 64, 67, 0.3), 0px 1px 3px 1px rgba(60, 64, 67, 0.15);\n",
              "      fill: #174EA6;\n",
              "    }\n",
              "\n",
              "    .colab-df-buttons div {\n",
              "      margin-bottom: 4px;\n",
              "    }\n",
              "\n",
              "    [theme=dark] .colab-df-convert {\n",
              "      background-color: #3B4455;\n",
              "      fill: #D2E3FC;\n",
              "    }\n",
              "\n",
              "    [theme=dark] .colab-df-convert:hover {\n",
              "      background-color: #434B5C;\n",
              "      box-shadow: 0px 1px 3px 1px rgba(0, 0, 0, 0.15);\n",
              "      filter: drop-shadow(0px 1px 2px rgba(0, 0, 0, 0.3));\n",
              "      fill: #FFFFFF;\n",
              "    }\n",
              "  </style>\n",
              "\n",
              "    <script>\n",
              "      const buttonEl =\n",
              "        document.querySelector('#df-c0c558e7-67a5-49e6-b92d-c7d00b246632 button.colab-df-convert');\n",
              "      buttonEl.style.display =\n",
              "        google.colab.kernel.accessAllowed ? 'block' : 'none';\n",
              "\n",
              "      async function convertToInteractive(key) {\n",
              "        const element = document.querySelector('#df-c0c558e7-67a5-49e6-b92d-c7d00b246632');\n",
              "        const dataTable =\n",
              "          await google.colab.kernel.invokeFunction('convertToInteractive',\n",
              "                                                    [key], {});\n",
              "        if (!dataTable) return;\n",
              "\n",
              "        const docLinkHtml = 'Like what you see? Visit the ' +\n",
              "          '<a target=\"_blank\" href=https://colab.research.google.com/notebooks/data_table.ipynb>data table notebook</a>'\n",
              "          + ' to learn more about interactive tables.';\n",
              "        element.innerHTML = '';\n",
              "        dataTable['output_type'] = 'display_data';\n",
              "        await google.colab.output.renderOutput(dataTable, element);\n",
              "        const docLink = document.createElement('div');\n",
              "        docLink.innerHTML = docLinkHtml;\n",
              "        element.appendChild(docLink);\n",
              "      }\n",
              "    </script>\n",
              "  </div>\n",
              "\n",
              "\n",
              "    <div id=\"df-d28ea041-69bc-43ee-81f0-7fbba27f244c\">\n",
              "      <button class=\"colab-df-quickchart\" onclick=\"quickchart('df-d28ea041-69bc-43ee-81f0-7fbba27f244c')\"\n",
              "                title=\"Suggest charts\"\n",
              "                style=\"display:none;\">\n",
              "\n",
              "<svg xmlns=\"http://www.w3.org/2000/svg\" height=\"24px\"viewBox=\"0 0 24 24\"\n",
              "     width=\"24px\">\n",
              "    <g>\n",
              "        <path d=\"M19 3H5c-1.1 0-2 .9-2 2v14c0 1.1.9 2 2 2h14c1.1 0 2-.9 2-2V5c0-1.1-.9-2-2-2zM9 17H7v-7h2v7zm4 0h-2V7h2v10zm4 0h-2v-4h2v4z\"/>\n",
              "    </g>\n",
              "</svg>\n",
              "      </button>\n",
              "\n",
              "<style>\n",
              "  .colab-df-quickchart {\n",
              "      --bg-color: #E8F0FE;\n",
              "      --fill-color: #1967D2;\n",
              "      --hover-bg-color: #E2EBFA;\n",
              "      --hover-fill-color: #174EA6;\n",
              "      --disabled-fill-color: #AAA;\n",
              "      --disabled-bg-color: #DDD;\n",
              "  }\n",
              "\n",
              "  [theme=dark] .colab-df-quickchart {\n",
              "      --bg-color: #3B4455;\n",
              "      --fill-color: #D2E3FC;\n",
              "      --hover-bg-color: #434B5C;\n",
              "      --hover-fill-color: #FFFFFF;\n",
              "      --disabled-bg-color: #3B4455;\n",
              "      --disabled-fill-color: #666;\n",
              "  }\n",
              "\n",
              "  .colab-df-quickchart {\n",
              "    background-color: var(--bg-color);\n",
              "    border: none;\n",
              "    border-radius: 50%;\n",
              "    cursor: pointer;\n",
              "    display: none;\n",
              "    fill: var(--fill-color);\n",
              "    height: 32px;\n",
              "    padding: 0;\n",
              "    width: 32px;\n",
              "  }\n",
              "\n",
              "  .colab-df-quickchart:hover {\n",
              "    background-color: var(--hover-bg-color);\n",
              "    box-shadow: 0 1px 2px rgba(60, 64, 67, 0.3), 0 1px 3px 1px rgba(60, 64, 67, 0.15);\n",
              "    fill: var(--button-hover-fill-color);\n",
              "  }\n",
              "\n",
              "  .colab-df-quickchart-complete:disabled,\n",
              "  .colab-df-quickchart-complete:disabled:hover {\n",
              "    background-color: var(--disabled-bg-color);\n",
              "    fill: var(--disabled-fill-color);\n",
              "    box-shadow: none;\n",
              "  }\n",
              "\n",
              "  .colab-df-spinner {\n",
              "    border: 2px solid var(--fill-color);\n",
              "    border-color: transparent;\n",
              "    border-bottom-color: var(--fill-color);\n",
              "    animation:\n",
              "      spin 1s steps(1) infinite;\n",
              "  }\n",
              "\n",
              "  @keyframes spin {\n",
              "    0% {\n",
              "      border-color: transparent;\n",
              "      border-bottom-color: var(--fill-color);\n",
              "      border-left-color: var(--fill-color);\n",
              "    }\n",
              "    20% {\n",
              "      border-color: transparent;\n",
              "      border-left-color: var(--fill-color);\n",
              "      border-top-color: var(--fill-color);\n",
              "    }\n",
              "    30% {\n",
              "      border-color: transparent;\n",
              "      border-left-color: var(--fill-color);\n",
              "      border-top-color: var(--fill-color);\n",
              "      border-right-color: var(--fill-color);\n",
              "    }\n",
              "    40% {\n",
              "      border-color: transparent;\n",
              "      border-right-color: var(--fill-color);\n",
              "      border-top-color: var(--fill-color);\n",
              "    }\n",
              "    60% {\n",
              "      border-color: transparent;\n",
              "      border-right-color: var(--fill-color);\n",
              "    }\n",
              "    80% {\n",
              "      border-color: transparent;\n",
              "      border-right-color: var(--fill-color);\n",
              "      border-bottom-color: var(--fill-color);\n",
              "    }\n",
              "    90% {\n",
              "      border-color: transparent;\n",
              "      border-bottom-color: var(--fill-color);\n",
              "    }\n",
              "  }\n",
              "</style>\n",
              "\n",
              "      <script>\n",
              "        async function quickchart(key) {\n",
              "          const quickchartButtonEl =\n",
              "            document.querySelector('#' + key + ' button');\n",
              "          quickchartButtonEl.disabled = true;  // To prevent multiple clicks.\n",
              "          quickchartButtonEl.classList.add('colab-df-spinner');\n",
              "          try {\n",
              "            const charts = await google.colab.kernel.invokeFunction(\n",
              "                'suggestCharts', [key], {});\n",
              "          } catch (error) {\n",
              "            console.error('Error during call to suggestCharts:', error);\n",
              "          }\n",
              "          quickchartButtonEl.classList.remove('colab-df-spinner');\n",
              "          quickchartButtonEl.classList.add('colab-df-quickchart-complete');\n",
              "        }\n",
              "        (() => {\n",
              "          let quickchartButtonEl =\n",
              "            document.querySelector('#df-d28ea041-69bc-43ee-81f0-7fbba27f244c button');\n",
              "          quickchartButtonEl.style.display =\n",
              "            google.colab.kernel.accessAllowed ? 'block' : 'none';\n",
              "        })();\n",
              "      </script>\n",
              "    </div>\n",
              "\n",
              "  <div id=\"id_450e323f-7fc7-4d11-aece-6a1614d5237c\">\n",
              "    <style>\n",
              "      .colab-df-generate {\n",
              "        background-color: #E8F0FE;\n",
              "        border: none;\n",
              "        border-radius: 50%;\n",
              "        cursor: pointer;\n",
              "        display: none;\n",
              "        fill: #1967D2;\n",
              "        height: 32px;\n",
              "        padding: 0 0 0 0;\n",
              "        width: 32px;\n",
              "      }\n",
              "\n",
              "      .colab-df-generate:hover {\n",
              "        background-color: #E2EBFA;\n",
              "        box-shadow: 0px 1px 2px rgba(60, 64, 67, 0.3), 0px 1px 3px 1px rgba(60, 64, 67, 0.15);\n",
              "        fill: #174EA6;\n",
              "      }\n",
              "\n",
              "      [theme=dark] .colab-df-generate {\n",
              "        background-color: #3B4455;\n",
              "        fill: #D2E3FC;\n",
              "      }\n",
              "\n",
              "      [theme=dark] .colab-df-generate:hover {\n",
              "        background-color: #434B5C;\n",
              "        box-shadow: 0px 1px 3px 1px rgba(0, 0, 0, 0.15);\n",
              "        filter: drop-shadow(0px 1px 2px rgba(0, 0, 0, 0.3));\n",
              "        fill: #FFFFFF;\n",
              "      }\n",
              "    </style>\n",
              "    <button class=\"colab-df-generate\" onclick=\"generateWithVariable('datos_clientes_final')\"\n",
              "            title=\"Generate code using this dataframe.\"\n",
              "            style=\"display:none;\">\n",
              "\n",
              "  <svg xmlns=\"http://www.w3.org/2000/svg\" height=\"24px\"viewBox=\"0 0 24 24\"\n",
              "       width=\"24px\">\n",
              "    <path d=\"M7,19H8.4L18.45,9,17,7.55,7,17.6ZM5,21V16.75L18.45,3.32a2,2,0,0,1,2.83,0l1.4,1.43a1.91,1.91,0,0,1,.58,1.4,1.91,1.91,0,0,1-.58,1.4L9.25,21ZM18.45,9,17,7.55Zm-12,3A5.31,5.31,0,0,0,4.9,8.1,5.31,5.31,0,0,0,1,6.5,5.31,5.31,0,0,0,4.9,4.9,5.31,5.31,0,0,0,6.5,1,5.31,5.31,0,0,0,8.1,4.9,5.31,5.31,0,0,0,12,6.5,5.46,5.46,0,0,0,6.5,12Z\"/>\n",
              "  </svg>\n",
              "    </button>\n",
              "    <script>\n",
              "      (() => {\n",
              "      const buttonEl =\n",
              "        document.querySelector('#id_450e323f-7fc7-4d11-aece-6a1614d5237c button.colab-df-generate');\n",
              "      buttonEl.style.display =\n",
              "        google.colab.kernel.accessAllowed ? 'block' : 'none';\n",
              "\n",
              "      buttonEl.onclick = () => {\n",
              "        google.colab.notebook.generateWithVariable('datos_clientes_final');\n",
              "      }\n",
              "      })();\n",
              "    </script>\n",
              "  </div>\n",
              "\n",
              "    </div>\n",
              "  </div>\n"
            ],
            "application/vnd.google.colaboratory.intrinsic+json": {
              "type": "dataframe",
              "variable_name": "datos_clientes_final"
            }
          },
          "metadata": {},
          "execution_count": 50
        }
      ]
    },
    {
      "cell_type": "code",
      "source": [
        "datos_clientes_final.info()"
      ],
      "metadata": {
        "colab": {
          "base_uri": "https://localhost:8080/"
        },
        "id": "GmTBBW-3xPzg",
        "outputId": "904e4522-30b7-4ea0-e715-e65cf061319f"
      },
      "execution_count": 51,
      "outputs": [
        {
          "output_type": "stream",
          "name": "stdout",
          "text": [
            "<class 'pandas.core.frame.DataFrame'>\n",
            "Index: 7267 entries, 0 to 7266\n",
            "Data columns (total 21 columns):\n",
            " #   Column            Non-Null Count  Dtype  \n",
            "---  ------            --------------  -----  \n",
            " 0   customerID        7267 non-null   object \n",
            " 1   Churn             7267 non-null   object \n",
            " 2   gender            7267 non-null   object \n",
            " 3   SeniorCitizen     7267 non-null   int64  \n",
            " 4   Partner           7267 non-null   object \n",
            " 5   Dependents        7267 non-null   object \n",
            " 6   tenure            7267 non-null   int64  \n",
            " 7   PhoneService      7267 non-null   object \n",
            " 8   MultipleLines     7267 non-null   object \n",
            " 9   InternetService   7267 non-null   object \n",
            " 10  OnlineSecurity    7267 non-null   object \n",
            " 11  OnlineBackup      7267 non-null   object \n",
            " 12  DeviceProtection  7267 non-null   object \n",
            " 13  TechSupport       7267 non-null   object \n",
            " 14  StreamingTV       7267 non-null   object \n",
            " 15  StreamingMovies   7267 non-null   object \n",
            " 16  Contract          7267 non-null   object \n",
            " 17  PaperlessBilling  7267 non-null   object \n",
            " 18  PaymentMethod     7267 non-null   object \n",
            " 19  Charges.Monthly   7267 non-null   float64\n",
            " 20  Charges.Total     7256 non-null   float64\n",
            "dtypes: float64(2), int64(2), object(17)\n",
            "memory usage: 1.2+ MB\n"
          ]
        }
      ]
    },
    {
      "cell_type": "code",
      "source": [
        "datos_clientes_final.describe()"
      ],
      "metadata": {
        "colab": {
          "base_uri": "https://localhost:8080/",
          "height": 300
        },
        "id": "VdD2Dd5oxqKU",
        "outputId": "64ddabba-b951-4923-d236-bc24733b2027"
      },
      "execution_count": 52,
      "outputs": [
        {
          "output_type": "execute_result",
          "data": {
            "text/plain": [
              "       SeniorCitizen       tenure  Charges.Monthly  Charges.Total\n",
              "count    7267.000000  7267.000000      7267.000000    7256.000000\n",
              "mean        0.162653    32.346498        64.720098    2280.634213\n",
              "std         0.369074    24.571773        30.129572    2268.632997\n",
              "min         0.000000     0.000000        18.250000      18.800000\n",
              "25%         0.000000     9.000000        35.425000     400.225000\n",
              "50%         0.000000    29.000000        70.300000    1391.000000\n",
              "75%         0.000000    55.000000        89.875000    3785.300000\n",
              "max         1.000000    72.000000       118.750000    8684.800000"
            ],
            "text/html": [
              "\n",
              "  <div id=\"df-88eb401c-98cd-4f28-83bf-07c4dae8c7ab\" class=\"colab-df-container\">\n",
              "    <div>\n",
              "<style scoped>\n",
              "    .dataframe tbody tr th:only-of-type {\n",
              "        vertical-align: middle;\n",
              "    }\n",
              "\n",
              "    .dataframe tbody tr th {\n",
              "        vertical-align: top;\n",
              "    }\n",
              "\n",
              "    .dataframe thead th {\n",
              "        text-align: right;\n",
              "    }\n",
              "</style>\n",
              "<table border=\"1\" class=\"dataframe\">\n",
              "  <thead>\n",
              "    <tr style=\"text-align: right;\">\n",
              "      <th></th>\n",
              "      <th>SeniorCitizen</th>\n",
              "      <th>tenure</th>\n",
              "      <th>Charges.Monthly</th>\n",
              "      <th>Charges.Total</th>\n",
              "    </tr>\n",
              "  </thead>\n",
              "  <tbody>\n",
              "    <tr>\n",
              "      <th>count</th>\n",
              "      <td>7267.000000</td>\n",
              "      <td>7267.000000</td>\n",
              "      <td>7267.000000</td>\n",
              "      <td>7256.000000</td>\n",
              "    </tr>\n",
              "    <tr>\n",
              "      <th>mean</th>\n",
              "      <td>0.162653</td>\n",
              "      <td>32.346498</td>\n",
              "      <td>64.720098</td>\n",
              "      <td>2280.634213</td>\n",
              "    </tr>\n",
              "    <tr>\n",
              "      <th>std</th>\n",
              "      <td>0.369074</td>\n",
              "      <td>24.571773</td>\n",
              "      <td>30.129572</td>\n",
              "      <td>2268.632997</td>\n",
              "    </tr>\n",
              "    <tr>\n",
              "      <th>min</th>\n",
              "      <td>0.000000</td>\n",
              "      <td>0.000000</td>\n",
              "      <td>18.250000</td>\n",
              "      <td>18.800000</td>\n",
              "    </tr>\n",
              "    <tr>\n",
              "      <th>25%</th>\n",
              "      <td>0.000000</td>\n",
              "      <td>9.000000</td>\n",
              "      <td>35.425000</td>\n",
              "      <td>400.225000</td>\n",
              "    </tr>\n",
              "    <tr>\n",
              "      <th>50%</th>\n",
              "      <td>0.000000</td>\n",
              "      <td>29.000000</td>\n",
              "      <td>70.300000</td>\n",
              "      <td>1391.000000</td>\n",
              "    </tr>\n",
              "    <tr>\n",
              "      <th>75%</th>\n",
              "      <td>0.000000</td>\n",
              "      <td>55.000000</td>\n",
              "      <td>89.875000</td>\n",
              "      <td>3785.300000</td>\n",
              "    </tr>\n",
              "    <tr>\n",
              "      <th>max</th>\n",
              "      <td>1.000000</td>\n",
              "      <td>72.000000</td>\n",
              "      <td>118.750000</td>\n",
              "      <td>8684.800000</td>\n",
              "    </tr>\n",
              "  </tbody>\n",
              "</table>\n",
              "</div>\n",
              "    <div class=\"colab-df-buttons\">\n",
              "\n",
              "  <div class=\"colab-df-container\">\n",
              "    <button class=\"colab-df-convert\" onclick=\"convertToInteractive('df-88eb401c-98cd-4f28-83bf-07c4dae8c7ab')\"\n",
              "            title=\"Convert this dataframe to an interactive table.\"\n",
              "            style=\"display:none;\">\n",
              "\n",
              "  <svg xmlns=\"http://www.w3.org/2000/svg\" height=\"24px\" viewBox=\"0 -960 960 960\">\n",
              "    <path d=\"M120-120v-720h720v720H120Zm60-500h600v-160H180v160Zm220 220h160v-160H400v160Zm0 220h160v-160H400v160ZM180-400h160v-160H180v160Zm440 0h160v-160H620v160ZM180-180h160v-160H180v160Zm440 0h160v-160H620v160Z\"/>\n",
              "  </svg>\n",
              "    </button>\n",
              "\n",
              "  <style>\n",
              "    .colab-df-container {\n",
              "      display:flex;\n",
              "      gap: 12px;\n",
              "    }\n",
              "\n",
              "    .colab-df-convert {\n",
              "      background-color: #E8F0FE;\n",
              "      border: none;\n",
              "      border-radius: 50%;\n",
              "      cursor: pointer;\n",
              "      display: none;\n",
              "      fill: #1967D2;\n",
              "      height: 32px;\n",
              "      padding: 0 0 0 0;\n",
              "      width: 32px;\n",
              "    }\n",
              "\n",
              "    .colab-df-convert:hover {\n",
              "      background-color: #E2EBFA;\n",
              "      box-shadow: 0px 1px 2px rgba(60, 64, 67, 0.3), 0px 1px 3px 1px rgba(60, 64, 67, 0.15);\n",
              "      fill: #174EA6;\n",
              "    }\n",
              "\n",
              "    .colab-df-buttons div {\n",
              "      margin-bottom: 4px;\n",
              "    }\n",
              "\n",
              "    [theme=dark] .colab-df-convert {\n",
              "      background-color: #3B4455;\n",
              "      fill: #D2E3FC;\n",
              "    }\n",
              "\n",
              "    [theme=dark] .colab-df-convert:hover {\n",
              "      background-color: #434B5C;\n",
              "      box-shadow: 0px 1px 3px 1px rgba(0, 0, 0, 0.15);\n",
              "      filter: drop-shadow(0px 1px 2px rgba(0, 0, 0, 0.3));\n",
              "      fill: #FFFFFF;\n",
              "    }\n",
              "  </style>\n",
              "\n",
              "    <script>\n",
              "      const buttonEl =\n",
              "        document.querySelector('#df-88eb401c-98cd-4f28-83bf-07c4dae8c7ab button.colab-df-convert');\n",
              "      buttonEl.style.display =\n",
              "        google.colab.kernel.accessAllowed ? 'block' : 'none';\n",
              "\n",
              "      async function convertToInteractive(key) {\n",
              "        const element = document.querySelector('#df-88eb401c-98cd-4f28-83bf-07c4dae8c7ab');\n",
              "        const dataTable =\n",
              "          await google.colab.kernel.invokeFunction('convertToInteractive',\n",
              "                                                    [key], {});\n",
              "        if (!dataTable) return;\n",
              "\n",
              "        const docLinkHtml = 'Like what you see? Visit the ' +\n",
              "          '<a target=\"_blank\" href=https://colab.research.google.com/notebooks/data_table.ipynb>data table notebook</a>'\n",
              "          + ' to learn more about interactive tables.';\n",
              "        element.innerHTML = '';\n",
              "        dataTable['output_type'] = 'display_data';\n",
              "        await google.colab.output.renderOutput(dataTable, element);\n",
              "        const docLink = document.createElement('div');\n",
              "        docLink.innerHTML = docLinkHtml;\n",
              "        element.appendChild(docLink);\n",
              "      }\n",
              "    </script>\n",
              "  </div>\n",
              "\n",
              "\n",
              "    <div id=\"df-a5dc96ae-46ae-4cae-8670-9faa0d6bd9be\">\n",
              "      <button class=\"colab-df-quickchart\" onclick=\"quickchart('df-a5dc96ae-46ae-4cae-8670-9faa0d6bd9be')\"\n",
              "                title=\"Suggest charts\"\n",
              "                style=\"display:none;\">\n",
              "\n",
              "<svg xmlns=\"http://www.w3.org/2000/svg\" height=\"24px\"viewBox=\"0 0 24 24\"\n",
              "     width=\"24px\">\n",
              "    <g>\n",
              "        <path d=\"M19 3H5c-1.1 0-2 .9-2 2v14c0 1.1.9 2 2 2h14c1.1 0 2-.9 2-2V5c0-1.1-.9-2-2-2zM9 17H7v-7h2v7zm4 0h-2V7h2v10zm4 0h-2v-4h2v4z\"/>\n",
              "    </g>\n",
              "</svg>\n",
              "      </button>\n",
              "\n",
              "<style>\n",
              "  .colab-df-quickchart {\n",
              "      --bg-color: #E8F0FE;\n",
              "      --fill-color: #1967D2;\n",
              "      --hover-bg-color: #E2EBFA;\n",
              "      --hover-fill-color: #174EA6;\n",
              "      --disabled-fill-color: #AAA;\n",
              "      --disabled-bg-color: #DDD;\n",
              "  }\n",
              "\n",
              "  [theme=dark] .colab-df-quickchart {\n",
              "      --bg-color: #3B4455;\n",
              "      --fill-color: #D2E3FC;\n",
              "      --hover-bg-color: #434B5C;\n",
              "      --hover-fill-color: #FFFFFF;\n",
              "      --disabled-bg-color: #3B4455;\n",
              "      --disabled-fill-color: #666;\n",
              "  }\n",
              "\n",
              "  .colab-df-quickchart {\n",
              "    background-color: var(--bg-color);\n",
              "    border: none;\n",
              "    border-radius: 50%;\n",
              "    cursor: pointer;\n",
              "    display: none;\n",
              "    fill: var(--fill-color);\n",
              "    height: 32px;\n",
              "    padding: 0;\n",
              "    width: 32px;\n",
              "  }\n",
              "\n",
              "  .colab-df-quickchart:hover {\n",
              "    background-color: var(--hover-bg-color);\n",
              "    box-shadow: 0 1px 2px rgba(60, 64, 67, 0.3), 0 1px 3px 1px rgba(60, 64, 67, 0.15);\n",
              "    fill: var(--button-hover-fill-color);\n",
              "  }\n",
              "\n",
              "  .colab-df-quickchart-complete:disabled,\n",
              "  .colab-df-quickchart-complete:disabled:hover {\n",
              "    background-color: var(--disabled-bg-color);\n",
              "    fill: var(--disabled-fill-color);\n",
              "    box-shadow: none;\n",
              "  }\n",
              "\n",
              "  .colab-df-spinner {\n",
              "    border: 2px solid var(--fill-color);\n",
              "    border-color: transparent;\n",
              "    border-bottom-color: var(--fill-color);\n",
              "    animation:\n",
              "      spin 1s steps(1) infinite;\n",
              "  }\n",
              "\n",
              "  @keyframes spin {\n",
              "    0% {\n",
              "      border-color: transparent;\n",
              "      border-bottom-color: var(--fill-color);\n",
              "      border-left-color: var(--fill-color);\n",
              "    }\n",
              "    20% {\n",
              "      border-color: transparent;\n",
              "      border-left-color: var(--fill-color);\n",
              "      border-top-color: var(--fill-color);\n",
              "    }\n",
              "    30% {\n",
              "      border-color: transparent;\n",
              "      border-left-color: var(--fill-color);\n",
              "      border-top-color: var(--fill-color);\n",
              "      border-right-color: var(--fill-color);\n",
              "    }\n",
              "    40% {\n",
              "      border-color: transparent;\n",
              "      border-right-color: var(--fill-color);\n",
              "      border-top-color: var(--fill-color);\n",
              "    }\n",
              "    60% {\n",
              "      border-color: transparent;\n",
              "      border-right-color: var(--fill-color);\n",
              "    }\n",
              "    80% {\n",
              "      border-color: transparent;\n",
              "      border-right-color: var(--fill-color);\n",
              "      border-bottom-color: var(--fill-color);\n",
              "    }\n",
              "    90% {\n",
              "      border-color: transparent;\n",
              "      border-bottom-color: var(--fill-color);\n",
              "    }\n",
              "  }\n",
              "</style>\n",
              "\n",
              "      <script>\n",
              "        async function quickchart(key) {\n",
              "          const quickchartButtonEl =\n",
              "            document.querySelector('#' + key + ' button');\n",
              "          quickchartButtonEl.disabled = true;  // To prevent multiple clicks.\n",
              "          quickchartButtonEl.classList.add('colab-df-spinner');\n",
              "          try {\n",
              "            const charts = await google.colab.kernel.invokeFunction(\n",
              "                'suggestCharts', [key], {});\n",
              "          } catch (error) {\n",
              "            console.error('Error during call to suggestCharts:', error);\n",
              "          }\n",
              "          quickchartButtonEl.classList.remove('colab-df-spinner');\n",
              "          quickchartButtonEl.classList.add('colab-df-quickchart-complete');\n",
              "        }\n",
              "        (() => {\n",
              "          let quickchartButtonEl =\n",
              "            document.querySelector('#df-a5dc96ae-46ae-4cae-8670-9faa0d6bd9be button');\n",
              "          quickchartButtonEl.style.display =\n",
              "            google.colab.kernel.accessAllowed ? 'block' : 'none';\n",
              "        })();\n",
              "      </script>\n",
              "    </div>\n",
              "\n",
              "    </div>\n",
              "  </div>\n"
            ],
            "application/vnd.google.colaboratory.intrinsic+json": {
              "type": "dataframe",
              "summary": "{\n  \"name\": \"datos_clientes_final\",\n  \"rows\": 8,\n  \"fields\": [\n    {\n      \"column\": \"SeniorCitizen\",\n      \"properties\": {\n        \"dtype\": \"number\",\n        \"std\": 2569.19514853371,\n        \"min\": 0.0,\n        \"max\": 7267.0,\n        \"num_unique_values\": 5,\n        \"samples\": [\n          0.16265308930782993,\n          1.0,\n          0.3690742557820031\n        ],\n        \"semantic_type\": \"\",\n        \"description\": \"\"\n      }\n    },\n    {\n      \"column\": \"tenure\",\n      \"properties\": {\n        \"dtype\": \"number\",\n        \"std\": 2558.1685122560853,\n        \"min\": 0.0,\n        \"max\": 7267.0,\n        \"num_unique_values\": 8,\n        \"samples\": [\n          32.34649786707032,\n          29.0,\n          7267.0\n        ],\n        \"semantic_type\": \"\",\n        \"description\": \"\"\n      }\n    },\n    {\n      \"column\": \"Charges.Monthly\",\n      \"properties\": {\n        \"dtype\": \"number\",\n        \"std\": 2547.8989994186936,\n        \"min\": 18.25,\n        \"max\": 7267.0,\n        \"num_unique_values\": 8,\n        \"samples\": [\n          64.72009770194028,\n          70.3,\n          7267.0\n        ],\n        \"semantic_type\": \"\",\n        \"description\": \"\"\n      }\n    },\n    {\n      \"column\": \"Charges.Total\",\n      \"properties\": {\n        \"dtype\": \"number\",\n        \"std\": 3157.558389134042,\n        \"min\": 18.8,\n        \"max\": 8684.8,\n        \"num_unique_values\": 8,\n        \"samples\": [\n          2280.6342130650496,\n          1391.0,\n          7256.0\n        ],\n        \"semantic_type\": \"\",\n        \"description\": \"\"\n      }\n    }\n  ]\n}"
            }
          },
          "metadata": {},
          "execution_count": 52
        }
      ]
    },
    {
      "cell_type": "markdown",
      "source": [
        "### Convertir la columna 'customerID' al formato correcto"
      ],
      "metadata": {
        "id": "faUm_iJwx5Iv"
      }
    },
    {
      "cell_type": "markdown",
      "source": [
        "### Convertir la columna 'TotalCharges' a tipo numérico, tratando los errores"
      ],
      "metadata": {
        "id": "LOjS1H0oyRVk"
      }
    },
    {
      "cell_type": "code",
      "source": [
        "datos_clientes_final['Charges.Total'] = pd.to_numeric(datos_clientes_final['Charges.Total'], errors='coerce')\n",
        "datos_clientes_final['Charges.Total'].fillna(0, inplace=True)\n",
        "print(datos_clientes_final['Charges.Total'].isnull().sum())"
      ],
      "metadata": {
        "colab": {
          "base_uri": "https://localhost:8080/"
        },
        "id": "vd2C1mtd0TA4",
        "outputId": "141c9b16-8851-45ca-c99a-bc9d4a65ed57"
      },
      "execution_count": 53,
      "outputs": [
        {
          "output_type": "stream",
          "name": "stdout",
          "text": [
            "0\n"
          ]
        },
        {
          "output_type": "stream",
          "name": "stderr",
          "text": [
            "/tmp/ipython-input-3980676362.py:2: FutureWarning: A value is trying to be set on a copy of a DataFrame or Series through chained assignment using an inplace method.\n",
            "The behavior will change in pandas 3.0. This inplace method will never work because the intermediate object on which we are setting values always behaves as a copy.\n",
            "\n",
            "For example, when doing 'df[col].method(value, inplace=True)', try using 'df.method({col: value}, inplace=True)' or df[col] = df[col].method(value) instead, to perform the operation inplace on the original object.\n",
            "\n",
            "\n",
            "  datos_clientes_final['Charges.Total'].fillna(0, inplace=True)\n"
          ]
        }
      ]
    },
    {
      "cell_type": "code",
      "source": [
        "X = datos_clientes_final.drop(columns=['customerID', 'Churn'], axis=1)\n",
        "y = datos_clientes_final['Churn']\n",
        "for col in datos_clientes_final.columns:\n",
        "  if col not in ['customerID', 'Churn']:\n",
        "        datos_clientes_final[col] = pd.to_numeric(datos_clientes_final[col], errors='coerce')\n",
        "datos_clientes_final.fillna(0, inplace=True)\n",
        "print(\"Tipos de datos después de la limpieza:\")\n",
        "print(datos_clientes_final.dtypes)"
      ],
      "metadata": {
        "colab": {
          "base_uri": "https://localhost:8080/"
        },
        "id": "xsWFC5I-GkD1",
        "outputId": "32ae17d5-e2a8-4c64-ad30-6cd54ba8284a"
      },
      "execution_count": 54,
      "outputs": [
        {
          "output_type": "stream",
          "name": "stdout",
          "text": [
            "Tipos de datos después de la limpieza:\n",
            "customerID           object\n",
            "Churn                object\n",
            "gender              float64\n",
            "SeniorCitizen         int64\n",
            "Partner             float64\n",
            "Dependents          float64\n",
            "tenure                int64\n",
            "PhoneService        float64\n",
            "MultipleLines       float64\n",
            "InternetService     float64\n",
            "OnlineSecurity      float64\n",
            "OnlineBackup        float64\n",
            "DeviceProtection    float64\n",
            "TechSupport         float64\n",
            "StreamingTV         float64\n",
            "StreamingMovies     float64\n",
            "Contract            float64\n",
            "PaperlessBilling    float64\n",
            "PaymentMethod       float64\n",
            "Charges.Monthly     float64\n",
            "Charges.Total       float64\n",
            "dtype: object\n"
          ]
        }
      ]
    },
    {
      "cell_type": "markdown",
      "source": [
        "### Rellenar valores nulos en 'TotalCharges' con 0"
      ],
      "metadata": {
        "id": "3VfxgvU90hk3"
      }
    },
    {
      "cell_type": "code",
      "source": [
        "datos_clientes_final['Charges.Total'].fillna(0, inplace=True)"
      ],
      "metadata": {
        "id": "IzYwwp1r0j4u",
        "colab": {
          "base_uri": "https://localhost:8080/"
        },
        "outputId": "fff0be70-ba1d-4e1d-c8b0-86bf28b3781e"
      },
      "execution_count": 55,
      "outputs": [
        {
          "output_type": "stream",
          "name": "stderr",
          "text": [
            "/tmp/ipython-input-3513105947.py:1: FutureWarning: A value is trying to be set on a copy of a DataFrame or Series through chained assignment using an inplace method.\n",
            "The behavior will change in pandas 3.0. This inplace method will never work because the intermediate object on which we are setting values always behaves as a copy.\n",
            "\n",
            "For example, when doing 'df[col].method(value, inplace=True)', try using 'df.method({col: value}, inplace=True)' or df[col] = df[col].method(value) instead, to perform the operation inplace on the original object.\n",
            "\n",
            "\n",
            "  datos_clientes_final['Charges.Total'].fillna(0, inplace=True)\n"
          ]
        }
      ]
    },
    {
      "cell_type": "markdown",
      "source": [
        "### Convertir la columna 'Churn' a formato binario (0 y 1)"
      ],
      "metadata": {
        "id": "4MHWZkcL1BRI"
      }
    },
    {
      "cell_type": "code",
      "source": [
        "datos_clientes_final['Churn'] = datos_clientes_final['Churn'].replace({'Yes': 1, 'No': 0, '': np.nan})\n",
        "datos_clientes_final.dropna(subset=['Churn'], inplace=True)\n",
        "datos_clientes_final['Churn'] = datos_clientes_final['Churn'].astype(int)\n",
        "datos_clientes_final['Churn'].value_counts(normalize=True)"
      ],
      "metadata": {
        "colab": {
          "base_uri": "https://localhost:8080/",
          "height": 234
        },
        "id": "tE-sAccv4f5Y",
        "outputId": "6550c03f-f0ef-44d8-ba76-c4d1a2138836"
      },
      "execution_count": 56,
      "outputs": [
        {
          "output_type": "stream",
          "name": "stderr",
          "text": [
            "/tmp/ipython-input-3953166871.py:1: FutureWarning: Downcasting behavior in `replace` is deprecated and will be removed in a future version. To retain the old behavior, explicitly call `result.infer_objects(copy=False)`. To opt-in to the future behavior, set `pd.set_option('future.no_silent_downcasting', True)`\n",
            "  datos_clientes_final['Churn'] = datos_clientes_final['Churn'].replace({'Yes': 1, 'No': 0, '': np.nan})\n"
          ]
        },
        {
          "output_type": "execute_result",
          "data": {
            "text/plain": [
              "Churn\n",
              "0    0.73463\n",
              "1    0.26537\n",
              "Name: proportion, dtype: float64"
            ],
            "text/html": [
              "<div>\n",
              "<style scoped>\n",
              "    .dataframe tbody tr th:only-of-type {\n",
              "        vertical-align: middle;\n",
              "    }\n",
              "\n",
              "    .dataframe tbody tr th {\n",
              "        vertical-align: top;\n",
              "    }\n",
              "\n",
              "    .dataframe thead th {\n",
              "        text-align: right;\n",
              "    }\n",
              "</style>\n",
              "<table border=\"1\" class=\"dataframe\">\n",
              "  <thead>\n",
              "    <tr style=\"text-align: right;\">\n",
              "      <th></th>\n",
              "      <th>proportion</th>\n",
              "    </tr>\n",
              "    <tr>\n",
              "      <th>Churn</th>\n",
              "      <th></th>\n",
              "    </tr>\n",
              "  </thead>\n",
              "  <tbody>\n",
              "    <tr>\n",
              "      <th>0</th>\n",
              "      <td>0.73463</td>\n",
              "    </tr>\n",
              "    <tr>\n",
              "      <th>1</th>\n",
              "      <td>0.26537</td>\n",
              "    </tr>\n",
              "  </tbody>\n",
              "</table>\n",
              "</div><br><label><b>dtype:</b> float64</label>"
            ]
          },
          "metadata": {},
          "execution_count": 56
        }
      ]
    },
    {
      "cell_type": "code",
      "source": [
        "datos_clientes_final.info()"
      ],
      "metadata": {
        "colab": {
          "base_uri": "https://localhost:8080/"
        },
        "id": "Dfxu5BGz1VPN",
        "outputId": "1835fc35-c13c-4133-9cc8-6a91875ea019"
      },
      "execution_count": 57,
      "outputs": [
        {
          "output_type": "stream",
          "name": "stdout",
          "text": [
            "<class 'pandas.core.frame.DataFrame'>\n",
            "Index: 7043 entries, 0 to 7266\n",
            "Data columns (total 21 columns):\n",
            " #   Column            Non-Null Count  Dtype  \n",
            "---  ------            --------------  -----  \n",
            " 0   customerID        7043 non-null   object \n",
            " 1   Churn             7043 non-null   int64  \n",
            " 2   gender            7043 non-null   float64\n",
            " 3   SeniorCitizen     7043 non-null   int64  \n",
            " 4   Partner           7043 non-null   float64\n",
            " 5   Dependents        7043 non-null   float64\n",
            " 6   tenure            7043 non-null   int64  \n",
            " 7   PhoneService      7043 non-null   float64\n",
            " 8   MultipleLines     7043 non-null   float64\n",
            " 9   InternetService   7043 non-null   float64\n",
            " 10  OnlineSecurity    7043 non-null   float64\n",
            " 11  OnlineBackup      7043 non-null   float64\n",
            " 12  DeviceProtection  7043 non-null   float64\n",
            " 13  TechSupport       7043 non-null   float64\n",
            " 14  StreamingTV       7043 non-null   float64\n",
            " 15  StreamingMovies   7043 non-null   float64\n",
            " 16  Contract          7043 non-null   float64\n",
            " 17  PaperlessBilling  7043 non-null   float64\n",
            " 18  PaymentMethod     7043 non-null   float64\n",
            " 19  Charges.Monthly   7043 non-null   float64\n",
            " 20  Charges.Total     7043 non-null   float64\n",
            "dtypes: float64(17), int64(3), object(1)\n",
            "memory usage: 1.2+ MB\n"
          ]
        }
      ]
    },
    {
      "cell_type": "markdown",
      "source": [
        "## 2. Análisis Exploratorio de Datos y Preparación para el Modelado"
      ],
      "metadata": {
        "id": "zf46HJfb1i5q"
      }
    },
    {
      "cell_type": "markdown",
      "source": [
        "#### Proporción de cancelación"
      ],
      "metadata": {
        "id": "lzp4KPVE2CzD"
      }
    },
    {
      "cell_type": "code",
      "source": [
        "churn_proportion = datos_clientes_final['Churn'].value_counts(normalize=True)\n",
        "print(\"Proporción de cancelación (Churn):\\n\", churn_proportion)\n",
        "plt.figure(figsize=(6, 4))\n",
        "sns.countplot(x='Churn', data=datos_clientes_final)\n",
        "plt.title('Distribución de Churn')\n",
        "plt.show()"
      ],
      "metadata": {
        "colab": {
          "base_uri": "https://localhost:8080/",
          "height": 501
        },
        "id": "rFXZimqT1mdb",
        "outputId": "7abd19bc-177d-45e1-e851-96a652ba1e11"
      },
      "execution_count": 58,
      "outputs": [
        {
          "output_type": "stream",
          "name": "stdout",
          "text": [
            "Proporción de cancelación (Churn):\n",
            " Churn\n",
            "0    0.73463\n",
            "1    0.26537\n",
            "Name: proportion, dtype: float64\n"
          ]
        },
        {
          "output_type": "display_data",
          "data": {
            "text/plain": [
              "<Figure size 600x400 with 1 Axes>"
            ],
            "image/png": "[encoded data removed]"
          },
          "metadata": {}
        }
      ]
    },
    {
      "cell_type": "markdown",
      "source": [
        "#### Separar características y la variable objetivo"
      ],
      "metadata": {
        "id": "UDmJSj7_2joj"
      }
    },
    {
      "cell_type": "code",
      "source": [
        "X = datos_clientes_final.drop(columns=['customerID', 'Churn'])\n",
        "y = datos_clientes_final['Churn']"
      ],
      "metadata": {
        "id": "1DGVSFUR2mLd"
      },
      "execution_count": 59,
      "outputs": []
    },
    {
      "cell_type": "markdown",
      "source": [
        "#### Separar columnas numéricas y categóricas"
      ],
      "metadata": {
        "id": "8IEDtuSV3IC3"
      }
    },
    {
      "cell_type": "code",
      "source": [
        "numeric_features = X.select_dtypes(include=np.number).columns.tolist()\n",
        "categorical_features = X.select_dtypes(include=['object', 'bool']).columns.tolist()"
      ],
      "metadata": {
        "id": "F83KYNiZ3KkR"
      },
      "execution_count": 60,
      "outputs": []
    },
    {
      "cell_type": "markdown",
      "source": [
        "#### Separación de datos en conjuntos de entrenamiento y prueba"
      ],
      "metadata": {
        "id": "eM7jycYB3Y5E"
      }
    },
    {
      "cell_type": "code",
      "source": [
        "X_train, X_test, y_train, y_test = train_test_split(X, y, test_size=0.2, random_state=42, stratify=y)\n",
        "print(f\"Forma de X_train: {X_train.shape}, Forma de y_train: {y_train.shape}\")\n",
        "print(f\"Forma de X_test: {X_test.shape}, Forma de y_test: {y_test.shape}\")"
      ],
      "metadata": {
        "colab": {
          "base_uri": "https://localhost:8080/"
        },
        "id": "AM2TaP1i5TIR",
        "outputId": "1ff4d806-d614-425f-b255-2a6633373dc1"
      },
      "execution_count": 61,
      "outputs": [
        {
          "output_type": "stream",
          "name": "stdout",
          "text": [
            "Forma de X_train: (5634, 19), Forma de y_train: (5634,)\n",
            "Forma de X_test: (1409, 19), Forma de y_test: (1409,)\n"
          ]
        }
      ]
    },
    {
      "cell_type": "markdown",
      "source": [
        "## 3. Análisis de Correlación"
      ],
      "metadata": {
        "id": "bmaBaxvQ5ln_"
      }
    },
    {
      "cell_type": "markdown",
      "source": [
        "#### Para variables numéricas"
      ],
      "metadata": {
        "id": "ytJK3ebO5wGF"
      }
    },
    {
      "cell_type": "code",
      "source": [
        "plt.figure(figsize=(10, 8))\n",
        "correlation_matrix = datos_clientes_final[numeric_features + ['Churn']].corr()\n",
        "sns.heatmap(correlation_matrix, annot=True, cmap='coolwarm', fmt=\".2f\")\n",
        "plt.title('Matriz de Correlación de Variables Numéricas')\n",
        "plt.show()"
      ],
      "metadata": {
        "colab": {
          "base_uri": "https://localhost:8080/",
          "height": 805
        },
        "id": "zgXH298e5qvw",
        "outputId": "88fa06c1-d2a7-49a7-df3d-0b335d655f17"
      },
      "execution_count": 62,
      "outputs": [
        {
          "output_type": "display_data",
          "data": {
            "text/plain": [
              "<Figure size 1000x800 with 2 Axes>"
            ],
            "image/png": "[encoded data removed]"
          },
          "metadata": {}
        }
      ]
    },
    {
      "cell_type": "markdown",
      "source": [
        "#### Para variables categóricas (usando Chi-Cuadrado para la relación con 'Churn')"
      ],
      "metadata": {
        "id": "u4jBHe9y6F2R"
      }
    },
    {
      "cell_type": "code",
      "source": [
        "print(\"\\nAnálisis de Chi-Cuadrado para variables categóricas vs Churn:\")\n",
        "for col in categorical_features:\n",
        "    contingency_table = pd.crosstab(datos_clientes_final[col], datos_clientes_final['Churn'])\n",
        "    chi2, p, _, _ = chi2_contingency(contingency_table)\n",
        "    print(f\"Variable: {col}, Valor p: {p:.4f}\")\n",
        "    if p < 0.05:\n",
        "        print(f\"  -> La variable '{col}' tiene una relación significativa con Churn.\")"
      ],
      "metadata": {
        "colab": {
          "base_uri": "https://localhost:8080/"
        },
        "id": "fWEwwupU6I3G",
        "outputId": "c62790dc-7e51-4f4e-9e85-396faaa8221e"
      },
      "execution_count": 63,
      "outputs": [
        {
          "output_type": "stream",
          "name": "stdout",
          "text": [
            "\n",
            "Análisis de Chi-Cuadrado para variables categóricas vs Churn:\n"
          ]
        }
      ]
    },
    {
      "cell_type": "markdown",
      "source": [
        "## 4. Creación y Evaluación de Modelos Predictivos"
      ],
      "metadata": {
        "id": "sD30KbrZ6e0s"
      }
    },
    {
      "cell_type": "markdown",
      "source": [
        "#### Preprocesamiento:"
      ],
      "metadata": {
        "id": "rj03lubW6w1S"
      }
    },
    {
      "cell_type": "code",
      "source": [
        "preprocessor = ColumnTransformer(\n",
        "    transformers=[\n",
        "        ('num', StandardScaler(), numeric_features),\n",
        "        ('cat', OneHotEncoder(handle_unknown='ignore'), categorical_features)\n",
        "    ],\n",
        "    remainder='passthrough'\n",
        ")\n",
        "\n",
        "### Uso de SMOTE para manejar el desbalance de clases\n",
        "smote = SMOTE(random_state=42)\n",
        "\n",
        "### Pipeline para modelo de Regresión Logística\n",
        "model_lr = ImbPipeline(steps=[\n",
        "    ('preprocessor', preprocessor),\n",
        "    ('sampler', smote),\n",
        "    ('classifier', LogisticRegression(random_state=42, solver='liblinear'))\n",
        "])\n",
        "\n",
        "print(\"Entrenando Regresión Logística...\")\n",
        "model_lr.fit(X_train, y_train)\n",
        "\n",
        "y_pred = model_lr.predict(X_test)\n",
        "y_prob = model_lr.predict_proba(X_test)[:, 1]\n",
        "\n",
        "\n",
        "### Pipeline para modelo Random Forest\n",
        "model_rf = ImbPipeline(steps=[\n",
        "    ('preprocessor', preprocessor),\n",
        "    ('sampler', smote),\n",
        "    ('classifier', RandomForestClassifier(random_state=42))\n",
        "])\n",
        "\n",
        "## Entrenamiento de los modelos\n",
        "print(\"Entrenando Regresión Logística...\")\n",
        "model_lr.fit(X_train, y_train)\n",
        "print(\"Entrenando Random Forest...\")\n",
        "model_rf.fit(X_train, y_train)\n",
        "\n",
        "## Evaluación de los modelos\n",
        "def evaluate_model(model, X_test, y_test, model_name):\n",
        "    y_pred = model.predict(X_test)\n",
        "    y_prob = model.predict_proba(X_test)[:, 1]\n",
        "\n",
        "    print(f\"\\n--- Reporte de Clasificación para {model_name} ---\")\n",
        "    print(classification_report(y_test, y_pred))\n",
        "\n",
        "    roc_auc = roc_auc_score(y_test, y_prob)\n",
        "    print(f\"Área bajo la curva ROC (AUC) para {model_name}: {roc_auc:.4f}\")\n",
        "\n",
        "### Curva ROC\n",
        "    plt.figure(figsize=(6, 4))\n",
        "    RocCurveDisplay.from_estimator(model, X_test, y_test)\n",
        "    plt.title(f'Curva ROC para {model_name}')\n",
        "    plt.plot([0, 1], [0, 1], 'k--')\n",
        "    plt.show()\n",
        "\n",
        "### Curva Precision-Recall\n",
        "    plt.figure(figsize=(6, 4))\n",
        "    PrecisionRecallDisplay.from_estimator(model, X_test, y_test)\n",
        "    plt.title(f'Curva Precision-Recall para {model_name}')\n",
        "    plt.show()\n",
        "\n",
        "    average_precision = average_precision_score(y_test, y_prob)\n",
        "    print(f\"Puntuación de Precisión Promedio para {model_name}: {average_precision:.4f}\")\n",
        "\n",
        "evaluate_model(model_lr, X_test, y_test, 'Regresión Logística')\n",
        "evaluate_model(model_rf, X_test, y_test, 'Random Forest')\n"
      ],
      "metadata": {
        "id": "TGApMRe-6jeq",
        "colab": {
          "base_uri": "https://localhost:8080/",
          "height": 1000
        },
        "outputId": "5a53a243-0b61-44c6-c542-5ff9f955ebf9"
      },
      "execution_count": 64,
      "outputs": [
        {
          "output_type": "stream",
          "name": "stdout",
          "text": [
            "Entrenando Regresión Logística...\n",
            "Entrenando Regresión Logística...\n",
            "Entrenando Random Forest...\n",
            "\n",
            "--- Reporte de Clasificación para Regresión Logística ---\n",
            "              precision    recall  f1-score   support\n",
            "\n",
            "           0       0.88      0.73      0.80      1035\n",
            "           1       0.50      0.73      0.59       374\n",
            "\n",
            "    accuracy                           0.73      1409\n",
            "   macro avg       0.69      0.73      0.70      1409\n",
            "weighted avg       0.78      0.73      0.75      1409\n",
            "\n",
            "Área bajo la curva ROC (AUC) para Regresión Logística: 0.8125\n"
          ]
        },
        {
          "output_type": "display_data",
          "data": {
            "text/plain": [
              "<Figure size 600x400 with 0 Axes>"
            ]
          },
          "metadata": {}
        },
        {
          "output_type": "display_data",
          "data": {
            "text/plain": [
              "<Figure size 640x480 with 1 Axes>"
            ],
            "image/png": "[encoded data removed]"
          },
          "metadata": {}
        },
        {
          "output_type": "display_data",
          "data": {
            "text/plain": [
              "<Figure size 600x400 with 0 Axes>"
            ]
          },
          "metadata": {}
        },
        {
          "output_type": "display_data",
          "data": {
            "text/plain": [
              "<Figure size 640x480 with 1 Axes>"
            ],
            "image/png": "[encoded data removed]"
          },
          "metadata": {}
        },
        {
          "output_type": "stream",
          "name": "stdout",
          "text": [
            "Puntuación de Precisión Promedio para Regresión Logística: 0.6077\n",
            "\n",
            "--- Reporte de Clasificación para Random Forest ---\n",
            "              precision    recall  f1-score   support\n",
            "\n",
            "           0       0.84      0.81      0.82      1035\n",
            "           1       0.52      0.57      0.54       374\n",
            "\n",
            "    accuracy                           0.75      1409\n",
            "   macro avg       0.68      0.69      0.68      1409\n",
            "weighted avg       0.75      0.75      0.75      1409\n",
            "\n",
            "Área bajo la curva ROC (AUC) para Random Forest: 0.7675\n"
          ]
        },
        {
          "output_type": "display_data",
          "data": {
            "text/plain": [
              "<Figure size 600x400 with 0 Axes>"
            ]
          },
          "metadata": {}
        },
        {
          "output_type": "display_data",
          "data": {
            "text/plain": [
              "<Figure size 640x480 with 1 Axes>"
            ],
            "image/png": "[encoded data removed]"
          },
          "metadata": {}
        },
        {
          "output_type": "display_data",
          "data": {
            "text/plain": [
              "<Figure size 600x400 with 0 Axes>"
            ]
          },
          "metadata": {}
        },
        {
          "output_type": "display_data",
          "data": {
            "text/plain": [
              "<Figure size 640x480 with 1 Axes>"
            ],
            "image/png": "[encoded data removed]"
          },
          "metadata": {}
        },
        {
          "output_type": "stream",
          "name": "stdout",
          "text": [
            "Puntuación de Precisión Promedio para Random Forest: 0.5486\n"
          ]
        }
      ]
    },
    {
      "cell_type": "markdown",
      "source": [
        "## 5. Análisis de Importancia de Variables"
      ],
      "metadata": {
        "id": "xYbGR_UQ9itt"
      }
    },
    {
      "cell_type": "markdown",
      "source": [
        "#### Analizar la importancia de las variables para el modelo Random Forest\n",
        "#### El modelo de Regresión Logística tiene coeficientes que actúan como importancia, pero Random Forest es más directo con 'feature_importances_'"
      ],
      "metadata": {
        "id": "yB4CxBiO9tkj"
      }
    },
    {
      "cell_type": "code",
      "source": [
        "for col in categorical_features:\n",
        "    X_train[col] = X_train[col].astype('object')\n",
        "    X_test[col] = X_test[col].astype('object')\n",
        "    preprocessor.fit(X_train)\n",
        "    fitted_preprocessor = model_rf.named_steps['preprocessor']\n",
        "    feature_names = fitted_preprocessor.named_transformers_['cat'].get_feature_names_out(categorical_features).tolist()\n",
        "    all_features = numeric_features + feature_names\n",
        "\n",
        "    importances = model_rf.named_steps['classifier'].feature_importances_\n",
        "    feature_importance_df = pd.DataFrame({'feature': all_features, 'importance': importances})\n",
        "    feature_importance_df = feature_importance_df.sort_values(by='importance', ascending=False)\n",
        "\n",
        "    plt.figure(figsize=(12, 8))\n",
        "    sns.barplot(x='importance', y='feature', data=feature_importance_df.head(20))\n",
        "    plt.title(f'Importancia de las Variables para (Random Forest)')\n",
        "    plt.xlabel('Importancia')\n",
        "    plt.ylabel('Variable')\n",
        "    plt.show()"
      ],
      "metadata": {
        "id": "4zOSeInVnmIp"
      },
      "execution_count": 67,
      "outputs": []
    },
    {
      "cell_type": "markdown",
      "source": [
        "# **INFORME FINAL**"
      ],
      "metadata": {
        "id": "7hfuxpsF-jto"
      }
    },
    {
      "cell_type": "markdown",
      "source": [
        "#### 1. ¿Quiénes son los clientes con mayor riesgo de evasión?\n",
        "Los clientes con mayor riesgo de churn son aquellos con contratos mensuales, sin soporte técnico ni seguridad en línea, baja antigüedad (tenure) y cargos mensuales elevados"
      ],
      "metadata": {
        "id": "47tVjbTj_Q2O"
      }
    },
    {
      "cell_type": "markdown",
      "source": [
        "#### 2. ¿Qué variables influyen más en este comportamiento?\n",
        "Las más importantes según el modelo son:\n",
        "Tipo de contrato\n",
        "TechSupport\n",
        "Antigüedad\n",
        "Cargos mensuales\n",
        "Cargos totales\n",
        "Servicio de fibra óptica\n",
        "Servicios adicionales como Streaming TV, Online Security, etc"
      ],
      "metadata": {
        "id": "F4gacahB_8PP"
      }
    },
    {
      "cell_type": "markdown",
      "source": [
        "#### 3.¿Qué tipo de perfil de cliente necesita la empresa para mantenerse más cerca?\n",
        "*   Clientes con contratos de largo plazo\n",
        "*   Clientes con múltiples servicios\n",
        "*   Clientes que utilizan servicios avanzados pero están satisfechos\n",
        "*   Clientes con antiguedad\n",
        "\n",
        "\n",
        "\n"
      ],
      "metadata": {
        "id": "_gpCcIRvBntg"
      }
    },
    {
      "cell_type": "markdown",
      "source": [
        "## **CONCLUSIÓN**"
      ],
      "metadata": {
        "id": "i3WBT58oCtnL"
      }
    },
    {
      "cell_type": "markdown",
      "source": [
        "La alta tasa de churn es un problema significativo, exacerbado por el desequilibrio de clases, lo que nos indica que la empresa debe tomar medidas urgentes. El modelo de Random Forest demostró ser una herramienta muy efectiva para identificar clientes en riesgo, superando en métricas al modelo de Regresión Logística.\n",
        "\n",
        "Basándose en los hallazgos del análisis, se recomienda a la empresa:\n",
        "\n",
        ". Prioridad Estratégica: Implementar un programa agresivo de retención dirigido a clientes con contrato de mes a mes y aquellos con baja antigüedad.\n",
        "\n",
        ". Ofertas Personalizadas: Utilizar los perfiles de riesgo para ofrecer paquetes de servicios atractivos que incentiven la permanencia y la adopción de contratos a largo plazo. Por ejemplo, ofrecer descuentos en la factura o servicios adicionales gratuitos a cambio de una renovación de contrato por un año.\n",
        "\n",
        ". Mejora del Servicio de Fibra Óptica: Investigar las razones detrás del alto churn en el segmento de fibra óptica. Esto podría indicar problemas de calidad, precio o servicio al cliente. La mejora en este servicio es clave para la retención y para competir en el mercado.\n",
        "\n",
        ". Segmentación y Comunicación: Desarrollar campañas de marketing dirigidas a los clientes identificados como de alto riesgo, con mensajes que resalten los beneficios de permanecer en la empresa. Utilizar la información sobre los servicios que tienen y los que no para ofrecerles soluciones que complementen su experiencia.\n",
        "\n",
        ". Métrica de Éxito: Monitorear la tasa de churn, especialmente en el segmento de contratos de mes a mes, y medir el impacto de las iniciativas de retención. Utilizar el modelo predictivo como una herramienta continua para identificar y actuar sobre los clientes en riesgo antes de que se vayan."
      ],
      "metadata": {
        "id": "xaQ3TZboCzII"
      }
    },
    {
      "cell_type": "markdown",
      "source": [],
      "metadata": {
        "id": "weZ5P-dy_zC0"
      }
    }
  ]
}